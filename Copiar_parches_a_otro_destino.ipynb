{
 "cells": [
  {
   "cell_type": "code",
   "execution_count": 3,
   "metadata": {},
   "outputs": [],
   "source": [
    "import os\n",
    "import shutil\n",
    "import numpy as np\n",
    "import matplotlib.pyplot as plt\n",
    "import pydicom "
   ]
  },
  {
   "cell_type": "markdown",
   "metadata": {},
   "source": [
    "# Rutas de las imágenes"
   ]
  },
  {
   "cell_type": "code",
   "execution_count": 4,
   "metadata": {},
   "outputs": [],
   "source": [
    "rutas_train_mass_B = np.load(r'D:\\Pruebas Parches Resize con TF\\RUTAS por etiquetas\\rutas_train_mass_BENIGN_577.npy')"
   ]
  },
  {
   "cell_type": "code",
   "execution_count": 5,
   "metadata": {},
   "outputs": [],
   "source": [
    "ruta_prueba = rutas_train_mass_B[0]"
   ]
  },
  {
   "cell_type": "code",
   "execution_count": 6,
   "metadata": {},
   "outputs": [
    {
     "data": {
      "text/plain": [
       "'D:\\\\CBIS-DDSM\\\\ROI de entrenamiento masivo e imágenes recortadas (DICOM)\\\\manifest-LyDgOQGl3853937313152078328\\\\CBIS-DDSM\\\\Mass-Training_P_00004_RIGHT_MLO_1\\\\07-21-2016-DDSM-NA-83774\\\\1.000000-ROI mask images-84846\\\\1-1.dcm'"
      ]
     },
     "execution_count": 6,
     "metadata": {},
     "output_type": "execute_result"
    }
   ],
   "source": [
    "ruta_prueba"
   ]
  },
  {
   "cell_type": "code",
   "execution_count": 8,
   "metadata": {},
   "outputs": [
    {
     "data": {
      "text/plain": [
       "['D:',\n",
       " 'CBIS-DDSM',\n",
       " 'ROI de entrenamiento masivo e imágenes recortadas (DICOM)',\n",
       " 'manifest-LyDgOQGl3853937313152078328',\n",
       " 'CBIS-DDSM',\n",
       " 'Mass-Training_P_00004_RIGHT_MLO_1',\n",
       " '07-21-2016-DDSM-NA-83774',\n",
       " '1.000000-ROI mask images-84846',\n",
       " '1-1.dcm']"
      ]
     },
     "execution_count": 8,
     "metadata": {},
     "output_type": "execute_result"
    }
   ],
   "source": [
    "ruta_prueba.split('\\\\')"
   ]
  },
  {
   "cell_type": "markdown",
   "metadata": {},
   "source": [
    "El orden de abajo sirve para crear las carpetas sin los archivos"
   ]
  },
  {
   "cell_type": "code",
   "execution_count": 26,
   "metadata": {},
   "outputs": [
    {
     "data": {
      "text/plain": [
       "['D:',\n",
       " 'CBIS-DDSM',\n",
       " 'ROI de entrenamiento masivo e imágenes recortadas (DICOM)',\n",
       " 'manifest-LyDgOQGl3853937313152078328\\\\CBIS-DDSM\\\\Mass-Training_P_00004_RIGHT_MLO_1\\\\07-21-2016-DDSM-NA-83774\\\\1.000000-ROI mask images-84846\\\\1-1.dcm']"
      ]
     },
     "execution_count": 26,
     "metadata": {},
     "output_type": "execute_result"
    }
   ],
   "source": [
    "ruta_prueba.split('\\\\',3) #Separamos hasta el cuarto elemento, 4-1 = 3"
   ]
  },
  {
   "cell_type": "code",
   "execution_count": 20,
   "metadata": {},
   "outputs": [
    {
     "data": {
      "text/plain": [
       "'manifest-LyDgOQGl3853937313152078328\\\\CBIS-DDSM\\\\Mass-Training_P_00004_RIGHT_MLO_1\\\\07-21-2016-DDSM-NA-83774\\\\1.000000-ROI mask images-84846\\\\1-1.dcm'"
      ]
     },
     "execution_count": 20,
     "metadata": {},
     "output_type": "execute_result"
    }
   ],
   "source": [
    "ruta_prueba.split('\\\\',3)[3]# Seleccionamos el 4to elemento con el archivo (no lo queremos por el momento)"
   ]
  },
  {
   "cell_type": "code",
   "execution_count": 30,
   "metadata": {},
   "outputs": [],
   "source": [
    "carpeta, archivo = os.path.split(ruta_prueba.split('\\\\',3)[3]) #Separamos lo anterior dejándo en ruta (carpetas) y el archivo 1-1.dcm"
   ]
  },
  {
   "cell_type": "code",
   "execution_count": 31,
   "metadata": {},
   "outputs": [
    {
     "data": {
      "text/plain": [
       "'manifest-LyDgOQGl3853937313152078328\\\\CBIS-DDSM\\\\Mass-Training_P_00004_RIGHT_MLO_1\\\\07-21-2016-DDSM-NA-83774\\\\1.000000-ROI mask images-84846'"
      ]
     },
     "execution_count": 31,
     "metadata": {},
     "output_type": "execute_result"
    }
   ],
   "source": [
    "carpeta #path to the file"
   ]
  },
  {
   "cell_type": "code",
   "execution_count": 32,
   "metadata": {},
   "outputs": [
    {
     "data": {
      "text/plain": [
       "'1-1.dcm'"
      ]
     },
     "execution_count": 32,
     "metadata": {},
     "output_type": "execute_result"
    }
   ],
   "source": [
    "archivo # file"
   ]
  },
  {
   "cell_type": "markdown",
   "metadata": {},
   "source": [
    "Tomamos la idea siguiente:"
   ]
  },
  {
   "cell_type": "code",
   "execution_count": 9,
   "metadata": {},
   "outputs": [],
   "source": [
    "# Nombre de la NUEVA CARPETA donde se alejarán TODAS LAS IMÁGENES (se puede hacer desde el entorno gráfico)\n",
    "inicio_ruta = ['D:\\\\CBIS-DDSM_Parches-Cropped_files']"
   ]
  },
  {
   "cell_type": "code",
   "execution_count": 12,
   "metadata": {},
   "outputs": [
    {
     "data": {
      "text/plain": [
       "'D:\\\\CBIS-DDSM_Parches-Cropped_files\\\\mass_train_benign'"
      ]
     },
     "execution_count": 12,
     "metadata": {},
     "output_type": "execute_result"
    }
   ],
   "source": [
    "A = ['mass_train_benign']\n",
    "B = os.path.join(inicio_ruta[0],A[0])\n",
    "B"
   ]
  },
  {
   "cell_type": "code",
   "execution_count": 21,
   "metadata": {},
   "outputs": [
    {
     "data": {
      "text/plain": [
       "'D:\\\\CBIS-DDSM_Parches-Cropped_files\\\\mass_train_benign\\\\manifest-LyDgOQGl3853937313152078328\\\\CBIS-DDSM\\\\Mass-Training_P_00004_RIGHT_MLO_1\\\\07-21-2016-DDSM-NA-83774\\\\1.000000-ROI mask images-84846\\\\1-1.dcm'"
      ]
     },
     "execution_count": 21,
     "metadata": {},
     "output_type": "execute_result"
    }
   ],
   "source": [
    "carpeta_prueba = os.path.join(B,ruta_prueba.split('\\\\',3)[3])\n",
    "carpeta_prueba"
   ]
  },
  {
   "cell_type": "markdown",
   "metadata": {},
   "source": [
    "# Copiar archivos\n",
    "La ruta será:\n",
    "- CBIS-DDSM_paches--->Train/Test----> Mass/Calc---> B,BWC,M--->Resto\n",
    "dependiendo la anormalidad (Mass-Calc) y su patología (B,M,BWC)"
   ]
  },
  {
   "cell_type": "markdown",
   "metadata": {},
   "source": [
    "## Cargamos las 12 Rutas:"
   ]
  },
  {
   "cell_type": "code",
   "execution_count": 41,
   "metadata": {},
   "outputs": [],
   "source": [
    "#Rutas train mass\n",
    "rutas_train_mass_BWC = np.load(r'D:\\Pruebas Parches Resize con TF\\RUTAS por etiquetas\\rutas_train_mass_BWC_104.npy')\n",
    "rutas_train_mass_M = np.load(r'D:\\Pruebas Parches Resize con TF\\RUTAS por etiquetas\\rutas_train_mass_MALIGNANT_637.npy')"
   ]
  },
  {
   "cell_type": "code",
   "execution_count": 42,
   "metadata": {},
   "outputs": [],
   "source": [
    "#Rutas test mass\n",
    "rutas_test_mass_B = np.load(r'D:\\Pruebas Parches Resize con TF\\RUTAS por etiquetas\\rutas_test_mass_BENIGN_194.npy')\n",
    "rutas_test_mass_BWC = np.load(r'D:\\Pruebas Parches Resize con TF\\RUTAS por etiquetas\\rutas_test_mass_BWC_37.npy')\n",
    "rutas_test_mass_M = np.load(r'D:\\Pruebas Parches Resize con TF\\RUTAS por etiquetas\\rutas_test_mass_MALIGNANT_147.npy')"
   ]
  },
  {
   "cell_type": "code",
   "execution_count": 44,
   "metadata": {},
   "outputs": [],
   "source": [
    "#Rutas train calc\n",
    "rutas_train_calc_B =  np.load(r'D:\\Pruebas Parches Resize con TF\\RUTAS por etiquetas\\rutas_train_calc_BENIGN_528.npy')\n",
    "rutas_train_calc_BWC = np.load(r'D:\\Pruebas Parches Resize con TF\\RUTAS por etiquetas\\rutas_train_calc_BWC_474.npy')\n",
    "rutas_train_calc_M = np.load(r'D:\\Pruebas Parches Resize con TF\\RUTAS por etiquetas\\rutas_train_calc_MALIGNANT_544.npy')"
   ]
  },
  {
   "cell_type": "code",
   "execution_count": 45,
   "metadata": {},
   "outputs": [],
   "source": [
    "#Rutas test calc\n",
    "rutas_test_calc_B = np.load(r'D:\\Pruebas Parches Resize con TF\\RUTAS por etiquetas\\rutas_test_calc_BENIGN_130.npy')\n",
    "rutas_test_calc_BWC = np.load(r'D:\\Pruebas Parches Resize con TF\\RUTAS por etiquetas\\rutas_test_calc_BWC_67.npy')\n",
    "rutas_test_calc_M = np.load(r'D:\\Pruebas Parches Resize con TF\\RUTAS por etiquetas\\rutas_test_calc_MALIGNANT_129.npy')"
   ]
  },
  {
   "cell_type": "markdown",
   "metadata": {},
   "source": [
    "El siguiente ciclo For muestra como MOVER las imágenes MASS TRAIN Benign a una carpeta nueva (D:\\\\CBIS-DDSM_Parches-Cropped_files) ---> Train---> MASS ---> Benign ---> path to the file (ruta original hacia el archivo)\n",
    "\n",
    "**NOTA:** Se puede hacer lo mismo para las restantes 11 Ruta. Esto creará una mejor división de los elemento."
   ]
  },
  {
   "cell_type": "code",
   "execution_count": 46,
   "metadata": {},
   "outputs": [],
   "source": [
    "for file in rutas_train_mass_B:\n",
    "    file.split('\\\\',3) #Separamos hasta el cuarto elemento, 4-1 = 3\n",
    "    #file.split('\\\\',3)[3]# Seleccionamos Esa tercer parte (4to) con el archivo (no lo queremos por el momento), ruta prueba es file\n",
    "    carpeta, archivo = os.path.split(file.split('\\\\',3)[3]) #Separamos lo anterior dejándo en ruta (carpetas) y el archivo dcm\n",
    "    carpeta_prueba_archivo = os.path.join('D:\\\\CBIS-DDSM_Parches-Cropped_files\\\\Train\\\\Mass\\\\Benign', carpeta)\n",
    "    \n",
    "    if carpeta_prueba_archivo:\n",
    "        os.makedirs(carpeta_prueba_archivo, exist_ok=True)\n",
    "    \n",
    "    ruta_copia_P = os.path.join(carpeta_prueba_archivo,archivo)\n",
    "\n",
    "    # Copiar el archivo a la última carpeta\n",
    "    shutil.copy(ruta_prueba, ruta_copia_P)"
   ]
  }
 ],
 "metadata": {
  "kernelspec": {
   "display_name": "Python 3",
   "language": "python",
   "name": "python3"
  },
  "language_info": {
   "codemirror_mode": {
    "name": "ipython",
    "version": 3
   },
   "file_extension": ".py",
   "mimetype": "text/x-python",
   "name": "python",
   "nbconvert_exporter": "python",
   "pygments_lexer": "ipython3",
   "version": "3.10.6"
  }
 },
 "nbformat": 4,
 "nbformat_minor": 2
}
